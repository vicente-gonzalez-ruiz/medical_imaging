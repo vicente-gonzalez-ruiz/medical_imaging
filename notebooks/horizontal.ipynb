{
  "nbformat": 4,
  "nbformat_minor": 0,
  "metadata": {
    "colab": {
      "provenance": []
    },
    "kernelspec": {
      "name": "python3",
      "display_name": "Python 3"
    },
    "language_info": {
      "name": "python"
    }
  },
  "cells": [
    {
      "cell_type": "code",
      "execution_count": null,
      "metadata": {
        "id": "sQPyy5iKsZE8"
      },
      "outputs": [],
      "source": [
        "# Generate an image with constant gradient in the horizontal directions.\n",
        "\n",
        "import numpy as np\n",
        "import matplotlib.pyplot as plt\n",
        "\n",
        "width = 256\n",
        "height= 100\n",
        "filename = \"horizontal_vertical.png\"\n",
        "\n",
        "gradient = np.linspace(0, 255, width)\n",
        "Z = np.tile(gradient, (height, 1))\n",
        "\n",
        "plt.figure(figsize=(width / 100, height / 100), dpi=100)\n",
        "plt.imshow(Z, cmap='gray', origin='upper')\n",
        "plt.axis('off')\n",
        "plt.tight_layout(pad=0)\n",
        "plt.show()\n",
        "plt.savefig(filename)\n",
        "plt.close()\n",
        "print(f\"Image saved as {filename}\")"
      ]
    }
  ]
}