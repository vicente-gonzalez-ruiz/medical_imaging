{
  "nbformat": 4,
  "nbformat_minor": 0,
  "metadata": {
    "colab": {
      "provenance": []
    },
    "kernelspec": {
      "name": "python3",
      "display_name": "Python 3"
    },
    "language_info": {
      "name": "python"
    }
  },
  "cells": [
    {
      "cell_type": "code",
      "execution_count": 4,
      "metadata": {
        "colab": {
          "base_uri": "https://localhost:8080/",
          "height": 261
        },
        "id": "YayDFp1hBiv4",
        "outputId": "6de93c93-c75f-479e-8683-69ef61cb6bee"
      },
      "outputs": [
        {
          "output_type": "display_data",
          "data": {
            "text/plain": [
              "<Figure size 1200x400 with 4 Axes>"
            ],
            "image/png": "[encoded data removed]"
          },
          "metadata": {}
        }
      ],
      "source": [
        "import matplotlib.pyplot as plt\n",
        "import numpy as np\n",
        "\n",
        "# Figure setup\n",
        "fig, axes = plt.subplots(1, 4, figsize=(12, 4))\n",
        "\n",
        "# Background shades (from dark to light)\n",
        "backgrounds = [0.0, 0.3, 0.6, 0.9]  # grayscale values\n",
        "\n",
        "# Square shade (same for all)\n",
        "square_gray = 0.5\n",
        "\n",
        "# Square size\n",
        "square_size = 0.3\n",
        "\n",
        "for ax, bg in zip(axes, backgrounds):\n",
        "    # Background\n",
        "    ax.set_facecolor(str(bg))\n",
        "\n",
        "    # Add central square\n",
        "    square = plt.Rectangle(\n",
        "        (0.35, 0.35), square_size, square_size,\n",
        "        facecolor=str(square_gray), edgecolor='none')\n",
        "    ax.add_patch(square)\n",
        "\n",
        "    # Formatting\n",
        "    ax.set_xticks([])\n",
        "    ax.set_yticks([])\n",
        "    ax.set_xlim(0, 1)\n",
        "    ax.set_ylim(0, 1)\n",
        "    ax.set_aspect('equal')\n",
        "\n",
        "plt.subplots_adjust(wspace=0.05)\n",
        "plt.savefig(\"same_squares.png\")\n",
        "plt.show()"
      ]
    },
    {
      "cell_type": "code",
      "source": [],
      "metadata": {
        "id": "fNjmDXTZBj3F"
      },
      "execution_count": null,
      "outputs": []
    }
  ]
}