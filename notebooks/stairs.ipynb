{
  "nbformat": 4,
  "nbformat_minor": 0,
  "metadata": {
    "colab": {
      "provenance": []
    },
    "kernelspec": {
      "name": "python3",
      "display_name": "Python 3"
    },
    "language_info": {
      "name": "python"
    }
  },
  "cells": [
    {
      "cell_type": "code",
      "execution_count": 2,
      "metadata": {
        "colab": {
          "base_uri": "https://localhost:8080/",
          "height": 154
        },
        "id": "VOa_H2g4I34k",
        "outputId": "307fb473-7703-49a3-d7e8-bf957ecb1b8d"
      },
      "outputs": [
        {
          "output_type": "display_data",
          "data": {
            "text/plain": [
              "<Figure size 256x100 with 1 Axes>"
            ],
            "image/png": "[encoded data removed]"
          },
          "metadata": {}
        },
        {
          "output_type": "stream",
          "name": "stdout",
          "text": [
            "Image saved as stairs.png\n"
          ]
        }
      ],
      "source": [
        "# Generate an image with vertical rectangles of the same intensity.\n",
        "\n",
        "import numpy as np\n",
        "import matplotlib.pyplot as plt\n",
        "\n",
        "width = 256\n",
        "height= 100\n",
        "filename = \"stairs.png\"\n",
        "\n",
        "gradient = np.int32(np.linspace(0, 256, 255)//16)*16\n",
        "Z = np.tile(gradient, (height, 1)) * 16\n",
        "\n",
        "plt.figure(figsize=(width / 100, height / 100), dpi=100)\n",
        "plt.imshow(Z, cmap='gray', origin='upper')\n",
        "plt.axis('off')\n",
        "plt.tight_layout(pad=0)\n",
        "plt.show()\n",
        "plt.savefig(filename)\n",
        "plt.close()\n",
        "print(f\"Image saved as {filename}\")"
      ]
    },
    {
      "cell_type": "code",
      "source": [],
      "metadata": {
        "id": "86B2djT4JBYW"
      },
      "execution_count": null,
      "outputs": []
    }
  ]
}