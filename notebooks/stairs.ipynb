{
 "cells": [
  {
   "cell_type": "code",
   "execution_count": 2,
   "metadata": {
    "colab": {
     "base_uri": "https://localhost:8080/",
     "height": 154
    },
    "id": "VOa_H2g4I34k",
    "outputId": "307fb473-7703-49a3-d7e8-bf957ecb1b8d"
   },
   "outputs": [
    {
     "data": {
      "image/png": "[encoded data removed]",
      "text/plain": [
       "<Figure size 256x100 with 1 Axes>"
      ]
     },
     "metadata": {},
     "output_type": "display_data"
    },
    {
     "name": "stdout",
     "output_type": "stream",
     "text": [
      "Image saved as stairs.png\n"
     ]
    }
   ],
   "source": [
    "# Generate an image with vertical rectangles of the same intensity.\n",
    "\n",
    "import numpy as np\n",
    "import matplotlib.pyplot as plt\n",
    "\n",
    "width = 256\n",
    "height= 100\n",
    "filename = \"stairs.png\"\n",
    "\n",
    "gradient = np.int32(np.linspace(0, 256, 255)//16)*16\n",
    "Z = np.tile(gradient, (height, 1)) * 16\n",
    "\n",
    "plt.figure(figsize=(width / 100, height / 100), dpi=100)\n",
    "plt.imshow(Z, cmap='gray', origin='upper')\n",
    "plt.axis('off')\n",
    "plt.tight_layout(pad=0)\n",
    "plt.show()\n",
    "plt.savefig(filename)\n",
    "plt.close()\n",
    "print(f\"Image saved as {filename}\")"
   ]
  },
  {
   "cell_type": "code",
   "execution_count": null,
   "metadata": {
    "id": "86B2djT4JBYW"
   },
   "outputs": [],
   "source": []
  }
 ],
 "metadata": {
  "colab": {
   "provenance": []
  },
  "kernelspec": {
   "display_name": "Python 3 (ipykernel)",
   "language": "python",
   "name": "python3"
  },
  "language_info": {
   "codemirror_mode": {
    "name": "ipython",
    "version": 3
   },
   "file_extension": ".py",
   "mimetype": "text/x-python",
   "name": "python",
   "nbconvert_exporter": "python",
   "pygments_lexer": "ipython3",
   "version": "3.13.7"
  }
 },
 "nbformat": 4,
 "nbformat_minor": 4
}
