{
 "cells": [
  {
   "cell_type": "markdown",
   "metadata": {
    "colab_type": "text",
    "id": "view-in-github"
   },
   "source": [
    "<a href=\"https://colab.research.google.com/github/vicente-gonzalez-ruiz/medical_imaging/blob/main/notebooks/PNG_add_metadata.ipynb\" target=\"_parent\"><img src=\"https://colab.research.google.com/assets/colab-badge.svg\" alt=\"Open In Colab\"/></a>"
   ]
  },
  {
   "cell_type": "code",
   "execution_count": 3,
   "metadata": {
    "colab": {
     "base_uri": "https://localhost:8080/"
    },
    "id": "vAFyxK-OJwQg",
    "outputId": "da4234d4-2e01-41f5-9173-2ed83967b11e"
   },
   "outputs": [
    {
     "name": "stdout",
     "output_type": "stream",
     "text": [
      "Current metadata:\n",
      "  dpi: (95.9866, 95.9866)\n",
      "\n",
      "\n",
      "Updated metadata:\n",
      "  Title: Updated Sunset Photo\n",
      "  Copyright: © 2025 by Example Corp.\n",
      "  Comment: This is a new comment added with Python.\n"
     ]
    }
   ],
   "source": [
    "# Download a PNG image from the Internet\n",
    "!wget -O example.png -q \"https://upload.wikimedia.org/wikipedia/commons/0/05/CT_of_a_normal_abdomen_and_pelvis%2C_coronal_plane_79.png\"\n",
    "\n",
    "# Python Imaging Library\n",
    "from PIL import Image, PngImagePlugin\n",
    "\n",
    "# Open the image\n",
    "img = Image.open(\"example.png\")\n",
    "print(\"Current metadata:\")\n",
    "for key, value in img.info.items():\n",
    "    print(f\"  {key}: {value}\")\n",
    "\n",
    "# Create a metadata object\n",
    "metadata = PngImagePlugin.PngInfo()\n",
    "metadata.add_text(\"Title\", \"Updated Sunset Photo\")\n",
    "metadata.add_text(\"Copyright\", \"© 2025 by Example Corp.\")\n",
    "metadata.add_text(\"Comment\", \"This is a new comment added with Python.\")\n",
    "\n",
    "# Save the new image with the new metadata\n",
    "img.save(\"example_updated.png\", pnginfo=metadata)\n",
    "\n",
    "# Verify\n",
    "updated_img = Image.open(\"example_updated.png\")\n",
    "print()\n",
    "print(\"Updated metadata:\")\n",
    "for key, value in updated_img.info.items():\n",
    "    print(f\"  {key}: {value}\")"
   ]
  }
 ],
 "metadata": {
  "colab": {
   "authorship_tag": "ABX9TyMy2R6NIxH9nC0laDlRbcos",
   "include_colab_link": true,
   "provenance": []
  },
  "kernelspec": {
   "display_name": "Python 3 (ipykernel)",
   "language": "python",
   "name": "python3"
  },
  "language_info": {
   "codemirror_mode": {
    "name": "ipython",
    "version": 3
   },
   "file_extension": ".py",
   "mimetype": "text/x-python",
   "name": "python",
   "nbconvert_exporter": "python",
   "pygments_lexer": "ipython3",
   "version": "3.13.7"
  }
 },
 "nbformat": 4,
 "nbformat_minor": 4
}
