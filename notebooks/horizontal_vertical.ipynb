{
 "cells": [
  {
   "cell_type": "markdown",
   "metadata": {
    "id": "S-0KIvWumg2E"
   },
   "source": [
    "<a href=\"https://colab.research.google.com/github/vicente-gonzalez-ruiz/medical_imaging/blob/main/notebooks/horizontal_vertical.ipynb\" target=\"_parent\"><img src=\"https://colab.research.google.com/assets/colab-badge.svg\" alt=\"Open In Colab\"/></a>"
   ]
  },
  {
   "cell_type": "code",
   "execution_count": 3,
   "metadata": {
    "colab": {
     "base_uri": "https://localhost:8080/",
     "height": 154
    },
    "id": "meLYeoGZmeOh",
    "outputId": "8d88ca8e-2232-4823-c52c-50401f20ba18"
   },
   "outputs": [
    {
     "data": {
      "image/png": "[encoded data removed]",
      "text/plain": [
       "<Figure size 256x100 with 1 Axes>"
      ]
     },
     "metadata": {},
     "output_type": "display_data"
    },
    {
     "name": "stdout",
     "output_type": "stream",
     "text": [
      "Image saved as horizontal_vertical.png\n"
     ]
    }
   ],
   "source": [
    "# Generate an image with constant gradient in horizontal and\n",
    "# vertical directions.\n",
    "\n",
    "import numpy as np\n",
    "import matplotlib.pyplot as plt\n",
    "\n",
    "width = 256\n",
    "height= 100\n",
    "filename = \"horizontal_vertical.png\"\n",
    "\n",
    "x = np.linspace(0, width, width)\n",
    "y = np.linspace(0, height, height)\n",
    "X, Y = np.meshgrid(x, y)\n",
    "Z = X*Y\n",
    "\n",
    "plt.figure(figsize=(width / 100, height / 100), dpi=100)\n",
    "plt.imshow(Z, cmap='gray', origin='upper')\n",
    "plt.axis('off')\n",
    "plt.tight_layout(pad=0)\n",
    "plt.show()\n",
    "plt.savefig(filename)\n",
    "plt.close()\n",
    "print(f\"Image saved as {filename}\")"
   ]
  }
 ],
 "metadata": {
  "colab": {
   "provenance": []
  },
  "kernelspec": {
   "display_name": "Python 3 (ipykernel)",
   "language": "python",
   "name": "python3"
  },
  "language_info": {
   "codemirror_mode": {
    "name": "ipython",
    "version": 3
   },
   "file_extension": ".py",
   "mimetype": "text/x-python",
   "name": "python",
   "nbconvert_exporter": "python",
   "pygments_lexer": "ipython3",
   "version": "3.13.7"
  }
 },
 "nbformat": 4,
 "nbformat_minor": 4
}
