{
 "cells": [
  {
   "cell_type": "markdown",
   "metadata": {
    "colab_type": "text",
    "id": "view-in-github"
   },
   "source": [
    "<a href=\"https://colab.research.google.com/github/vicente-gonzalez-ruiz/medical_imaging/blob/main/notebooks/JPEG_add_metadata.ipynb\" target=\"_parent\"><img src=\"https://colab.research.google.com/assets/colab-badge.svg\" alt=\"Open In Colab\"/></a>"
   ]
  },
  {
   "cell_type": "code",
   "execution_count": 24,
   "metadata": {
    "colab": {
     "base_uri": "https://localhost:8080/"
    },
    "id": "6MwH9xraQY8T",
    "outputId": "0975c764-ded9-4589-b2f0-cfac3693f071"
   },
   "outputs": [
    {
     "name": "stdout",
     "output_type": "stream",
     "text": [
      "_exif_ifd_pointer: 61\n",
      "_gps_ifd_pointer: 115\n",
      "model: exif Model\n",
      "user_comment: This can be a long comment!\n"
     ]
    }
   ],
   "source": [
    "# Exif (Exchangeable image file format, see https://en.wikipedia.org/wiki/Exif)\n",
    "try:\n",
    "  import exif\n",
    "except:\n",
    "  !pip install exif\n",
    "  import exif\n",
    "\n",
    "# Download a JPEG image from the Internet\n",
    "!wget -O example.jpg -q \"http://hyperphysics.phy-astr.gsu.edu/hbasees/Nuclear/Nucpic/eyesec.jpg\"\n",
    "\n",
    "# Show metadata\n",
    "with open('example.jpg', 'rb') as img_file:\n",
    "  image = exif.Image(img_file)\n",
    "  list_all = sorted(image.list_all())\n",
    "  for tag in list_all:\n",
    "    print(f\"{tag}: {image.get(tag)}\")\n",
    "\n",
    "# Define new metadata in a new JPEG file\n",
    "image.model = \"exif Model\"\n",
    "image.user_comment = \"This can be a long comment!\"\n",
    "with open('example_exif_edit.jpg', 'wb') as new_image_file:\n",
    "    new_image_file.write(image.get_file())\n",
    "\n",
    "# Show metadata\n",
    "with open('example_exif_edit.jpg', 'rb') as img_file:\n",
    "  image = exif.Image(img_file)\n",
    "  list_all = sorted(image.list_all())\n",
    "  for tag in list_all:\n",
    "    print(f\"{tag}: {image.get(tag)}\")"
   ]
  },
  {
   "cell_type": "code",
   "execution_count": null,
   "metadata": {
    "id": "_RwCbmmkRLOb"
   },
   "outputs": [],
   "source": []
  }
 ],
 "metadata": {
  "colab": {
   "include_colab_link": true,
   "provenance": []
  },
  "kernelspec": {
   "display_name": "Python 3 (ipykernel)",
   "language": "python",
   "name": "python3"
  },
  "language_info": {
   "codemirror_mode": {
    "name": "ipython",
    "version": 3
   },
   "file_extension": ".py",
   "mimetype": "text/x-python",
   "name": "python",
   "nbconvert_exporter": "python",
   "pygments_lexer": "ipython3",
   "version": "3.12.2"
  }
 },
 "nbformat": 4,
 "nbformat_minor": 4
}
