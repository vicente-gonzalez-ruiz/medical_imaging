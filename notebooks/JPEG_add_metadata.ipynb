{
  "nbformat": 4,
  "nbformat_minor": 0,
  "metadata": {
    "colab": {
      "provenance": [],
      "authorship_tag": "ABX9TyMy2R6NIxH9nC0laDlRbcos",
      "include_colab_link": true
    },
    "kernelspec": {
      "name": "python3",
      "display_name": "Python 3"
    },
    "language_info": {
      "name": "python"
    }
  },
  "cells": [
    {
      "cell_type": "markdown",
      "metadata": {
        "id": "view-in-github",
        "colab_type": "text"
      },
      "source": [
        "<a href=\"https://colab.research.google.com/github/vicente-gonzalez-ruiz/medical_imaging/blob/main/notebooks/JPEG_add_metadata.ipynb\" target=\"_parent\"><img src=\"https://colab.research.google.com/assets/colab-badge.svg\" alt=\"Open In Colab\"/></a>"
      ]
    },
    {
      "cell_type": "code",
      "execution_count": 3,
      "metadata": {
        "colab": {
          "base_uri": "https://localhost:8080/"
        },
        "id": "vAFyxK-OJwQg",
        "outputId": "da4234d4-2e01-41f5-9173-2ed83967b11e"
      },
      "outputs": [
        {
          "output_type": "stream",
          "name": "stdout",
          "text": [
            "Current metadata:\n",
            "  dpi: (95.9866, 95.9866)\n",
            "\n",
            "\n",
            "Updated metadata:\n",
            "  Title: Updated Sunset Photo\n",
            "  Copyright: © 2025 by Example Corp.\n",
            "  Comment: This is a new comment added with Python.\n"
          ]
        }
      ],
      "source": [
        "# Download a PNG image from the Internet\n",
        "!wget -O example.png -q \"https://upload.wikimedia.org/wikipedia/commons/0/05/CT_of_a_normal_abdomen_and_pelvis%2C_coronal_plane_79.png\"\n",
        "\n",
        "# Python Imaging Library\n",
        "from PIL import Image, PngImagePlugin\n",
        "\n",
        "# Open the image\n",
        "img = Image.open(\"example.png\")\n",
        "print(\"Current metadata:\")\n",
        "for key, value in img.info.items():\n",
        "    print(f\"  {key}: {value}\")\n",
        "\n",
        "# Create a metadata object\n",
        "metadata = PngImagePlugin.PngInfo()\n",
        "metadata.add_text(\"Title\", \"Updated Sunset Photo\")\n",
        "metadata.add_text(\"Copyright\", \"© 2025 by Example Corp.\")\n",
        "metadata.add_text(\"Comment\", \"This is a new comment added with Python.\")\n",
        "\n",
        "# Save the new image with the new metadata\n",
        "img.save(\"example_updated.png\", pnginfo=metadata)\n",
        "\n",
        "# Verify\n",
        "updated_img = Image.open(\"example_updated.png\")\n",
        "print()\n",
        "print(\"Updated metadata:\")\n",
        "for key, value in updated_img.info.items():\n",
        "    print(f\"  {key}: {value}\")"
      ]
    },
    {
      "cell_type": "code",
      "source": [],
      "metadata": {
        "id": "3ix8cmFmLsZf"
      },
      "execution_count": null,
      "outputs": []
    }
  ]
}