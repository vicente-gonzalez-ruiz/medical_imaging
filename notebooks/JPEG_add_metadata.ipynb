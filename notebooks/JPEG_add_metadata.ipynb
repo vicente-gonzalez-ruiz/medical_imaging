{
  "nbformat": 4,
  "nbformat_minor": 0,
  "metadata": {
    "colab": {
      "provenance": [],
      "include_colab_link": true
    },
    "kernelspec": {
      "name": "python3",
      "display_name": "Python 3"
    },
    "language_info": {
      "name": "python"
    }
  },
  "cells": [
    {
      "cell_type": "markdown",
      "metadata": {
        "id": "view-in-github",
        "colab_type": "text"
      },
      "source": [
        "<a href=\"https://colab.research.google.com/github/vicente-gonzalez-ruiz/medical_imaging/blob/main/notebooks/JPEG_add_metadata.ipynb\" target=\"_parent\"><img src=\"https://colab.research.google.com/assets/colab-badge.svg\" alt=\"Open In Colab\"/></a>"
      ]
    },
    {
      "cell_type": "code",
      "source": [
        "# Exif (Exchangeable image file format, see https://en.wikipedia.org/wiki/Exif)\n",
        "try:\n",
        "  import exif\n",
        "except:\n",
        "  !pip install exif\n",
        "  import exif\n",
        "\n",
        "# Download a JPEG image from the Internet\n",
        "!wget -O example.jpg -q \"http://hyperphysics.phy-astr.gsu.edu/hbasees/Nuclear/Nucpic/eyesec.jpg\"\n",
        "\n",
        "# Show metadata\n",
        "with open('example.jpg', 'rb') as img_file:\n",
        "  image = exif.Image(img_file)\n",
        "  list_all = sorted(image.list_all())\n",
        "  for tag in list_all:\n",
        "    print(f\"{tag}: {image.get(tag)}\")\n",
        "\n",
        "# Define new metadata in a new JPEG file\n",
        "image.model = \"exif Model\"\n",
        "image.user_comment = \"This can be a long comment!\"\n",
        "with open('example_exif_edit.jpg', 'wb') as new_image_file:\n",
        "    new_image_file.write(image.get_file())\n",
        "\n",
        "# Show metadata\n",
        "with open('example_exif_edit.jpg', 'rb') as img_file:\n",
        "  image = exif.Image(img_file)\n",
        "  list_all = sorted(image.list_all())\n",
        "  for tag in list_all:\n",
        "    print(f\"{tag}: {image.get(tag)}\")"
      ],
      "metadata": {
        "id": "6MwH9xraQY8T",
        "outputId": "0975c764-ded9-4589-b2f0-cfac3693f071",
        "colab": {
          "base_uri": "https://localhost:8080/"
        }
      },
      "execution_count": 24,
      "outputs": [
        {
          "output_type": "stream",
          "name": "stdout",
          "text": [
            "_exif_ifd_pointer: 61\n",
            "_gps_ifd_pointer: 115\n",
            "model: exif Model\n",
            "user_comment: This can be a long comment!\n"
          ]
        }
      ]
    },
    {
      "cell_type": "code",
      "source": [],
      "metadata": {
        "id": "_RwCbmmkRLOb"
      },
      "execution_count": null,
      "outputs": []
    }
  ]
}